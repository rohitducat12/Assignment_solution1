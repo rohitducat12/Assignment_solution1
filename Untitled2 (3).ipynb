{
 "cells": [
  {
   "cell_type": "code",
   "execution_count": 15,
   "id": "85112efc-fa3f-4455-b8a7-0a62e4df92be",
   "metadata": {},
   "outputs": [],
   "source": [
    "def upper_converter(function):\n",
    "    def wrapper():\n",
    "        value = function()\n",
    "        upper_value = value.upper()\n",
    "        return upper_value\n",
    "    return wrapper \n",
    "\n",
    "def split_converter(function):\n",
    "    def wrapper():\n",
    "        value = function()\n",
    "        split_value = value.split()\n",
    "        return split_value\n",
    "    return wrapper\n",
    "        \n",
    "@split_converter\n",
    "@upper_converter \n",
    "def say_hi():\n",
    "    return \"hello good morning\""
   ]
  },
  {
   "cell_type": "code",
   "execution_count": 16,
   "id": "f0150137-8737-42b9-a91b-cf97080cf3ec",
   "metadata": {},
   "outputs": [
    {
     "data": {
      "text/plain": [
       "['HELLO', 'GOOD', 'MORNING']"
      ]
     },
     "execution_count": 16,
     "metadata": {},
     "output_type": "execute_result"
    }
   ],
   "source": [
    "say_hi()"
   ]
  },
  {
   "cell_type": "code",
   "execution_count": 14,
   "id": "eef50269-f61f-4bdd-928e-5580d1d77c59",
   "metadata": {},
   "outputs": [],
   "source": [
    "say_hi = upper_converter(say_hi)"
   ]
  },
  {
   "cell_type": "code",
   "execution_count": 9,
   "id": "425265d5-89a4-4f8e-8ac1-5401b72b37ff",
   "metadata": {},
   "outputs": [
    {
     "data": {
      "text/plain": [
       "'HELLO GOOD MORNING'"
      ]
     },
     "execution_count": 9,
     "metadata": {},
     "output_type": "execute_result"
    }
   ],
   "source": [
    "say_hi()"
   ]
  },
  {
   "cell_type": "code",
   "execution_count": null,
   "id": "b3a34ca6-6847-499b-91b4-820a4a7392de",
   "metadata": {},
   "outputs": [],
   "source": []
  }
 ],
 "metadata": {
  "kernelspec": {
   "display_name": "Python 3 (ipykernel)",
   "language": "python",
   "name": "python3"
  },
  "language_info": {
   "codemirror_mode": {
    "name": "ipython",
    "version": 3
   },
   "file_extension": ".py",
   "mimetype": "text/x-python",
   "name": "python",
   "nbconvert_exporter": "python",
   "pygments_lexer": "ipython3",
   "version": "3.11.7"
  }
 },
 "nbformat": 4,
 "nbformat_minor": 5
}
